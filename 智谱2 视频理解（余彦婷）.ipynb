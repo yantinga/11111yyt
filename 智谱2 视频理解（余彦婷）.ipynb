{
 "cells": [
  {
   "cell_type": "code",
   "execution_count": 1,
   "id": "280d3729-cfb3-4cd6-8fff-312646388b19",
   "metadata": {},
   "outputs": [
    {
     "name": "stdout",
     "output_type": "stream",
     "text": [
      "Collecting zhipuai\n",
      "  Downloading zhipuai-2.1.5.20230904-py3-none-any.whl (104 kB)\n",
      "Collecting pydantic<3.0,>=1.9.0\n",
      "  Downloading pydantic-2.9.2-py3-none-any.whl (434 kB)\n",
      "Collecting pyjwt<2.9.0,>=2.8.0\n",
      "  Downloading PyJWT-2.8.0-py3-none-any.whl (22 kB)\n",
      "Collecting httpx>=0.23.0\n",
      "  Downloading httpx-0.27.2-py3-none-any.whl (76 kB)\n",
      "Collecting pydantic-core>=2.14.6\n",
      "  Downloading pydantic_core-2.27.0-cp39-none-win_amd64.whl (2.0 MB)\n",
      "Collecting cachetools>=4.2.2\n",
      "  Downloading cachetools-5.5.0-py3-none-any.whl (9.5 kB)\n",
      "Requirement already satisfied: sniffio in c:\\programdata\\anaconda3\\lib\\site-packages (from httpx>=0.23.0->zhipuai) (1.2.0)\n",
      "Requirement already satisfied: idna in c:\\programdata\\anaconda3\\lib\\site-packages (from httpx>=0.23.0->zhipuai) (3.2)\n",
      "Collecting httpcore==1.*\n",
      "  Downloading httpcore-1.0.7-py3-none-any.whl (78 kB)\n",
      "Requirement already satisfied: certifi in c:\\programdata\\anaconda3\\lib\\site-packages (from httpx>=0.23.0->zhipuai) (2021.10.8)\n",
      "Requirement already satisfied: anyio in c:\\programdata\\anaconda3\\lib\\site-packages (from httpx>=0.23.0->zhipuai) (2.2.0)\n",
      "Collecting h11<0.15,>=0.13\n",
      "  Using cached h11-0.14.0-py3-none-any.whl (58 kB)\n",
      "Collecting annotated-types>=0.6.0\n",
      "  Downloading annotated_types-0.7.0-py3-none-any.whl (13 kB)\n",
      "Requirement already satisfied: typing-extensions>=4.6.1 in c:\\programdata\\anaconda3\\lib\\site-packages (from pydantic<3.0,>=1.9.0->zhipuai) (4.12.2)\n",
      "Collecting pydantic-core>=2.14.6\n",
      "  Downloading pydantic_core-2.23.4-cp39-none-win_amd64.whl (1.9 MB)\n",
      "Installing collected packages: h11, pydantic-core, httpcore, annotated-types, pyjwt, pydantic, httpx, cachetools, zhipuai\n",
      "  Attempting uninstall: pyjwt\n",
      "    Found existing installation: PyJWT 2.1.0\n",
      "    Uninstalling PyJWT-2.1.0:\n",
      "      Successfully uninstalled PyJWT-2.1.0\n",
      "Successfully installed annotated-types-0.7.0 cachetools-5.5.0 h11-0.14.0 httpcore-1.0.7 httpx-0.27.2 pydantic-2.9.2 pydantic-core-2.23.4 pyjwt-2.8.0 zhipuai-2.1.5.20230904\n",
      "Note: you may need to restart the kernel to use updated packages.\n"
     ]
    }
   ],
   "source": [
    "pip install zhipuai\n"
   ]
  },
  {
   "cell_type": "code",
   "execution_count": 1,
   "id": "b08846c1-d80e-4821-a3ad-262288a55ae2",
   "metadata": {},
   "outputs": [],
   "source": [
    "import os\n",
    "from zhipuai import ZhipuAI\n",
    "import base64#导入base64库，用于将视频文件编码成base64字符串格式 \n",
    "os.environ[\"ZHIPUAI_API_KEY\"] = \"63187c24f9723e9d797ab3d6168417f4.3RtwqZTBq3c3emch\"\n",
    "client = ZhipuAI() \n"
   ]
  },
  {
   "cell_type": "code",
   "execution_count": 5,
   "id": "fb03dcd7-b9e3-4260-a53f-f2346acef4df",
   "metadata": {},
   "outputs": [
    {
     "name": "stdout",
     "output_type": "stream",
     "text": [
      "通常来说，视频理解的响应时间较长，需要等待数十秒...\n",
      "CompletionMessage(content='好的，让我用幽默的方式来给你讲述这个故事。\\n\\n有一天，一个名叫 Jiang Weixiong 的人决定给一只可爱的小猫咪做美容。他拿起一把剪刀，准备修剪一下小猫的毛发。但是，当他开始剪的时候，小猫突然跳了起来， Jiang Weixiong 慌乱中把剪刀掉在了地上。\\n\\n小猫看到 Jiang Weixiong 的尴尬表情，忍不住笑了起来。它似乎觉得这很有趣，于是开始在 Jiang Weixiong 周围跑来跑去，好像在说:“快来追我啊!”\\n\\nJiang Weixiong 觉得这个小家伙真是太可爱了，于是他决定和它一起玩。他们一起追逐、嬉戏，度过了一个美好的下午。\\n\\n最后，当太阳快要落山时， Jiang Weixiong 决定回家。他抱起小猫，向家走去。在路上，小猫不停地摇晃着尾巴，好像在说:“谢谢你和我一起玩耍。”\\n\\n这就是 Jiang Weixiong 和小猫之间的故事。虽然 Jiang Weixiong 没有完成他的任务，但他和小猫之间建立了一种特殊的友谊。', role='assistant', tool_calls=None)\n"
     ]
    }
   ],
   "source": [
    "video_path = \"video_1.mp4\" #设置视频文件的路径\n",
    "with open(video_path,'rb') as video_file: # 以“二进制读”模式打开视频文件\n",
    "    video_base = base64.b64encode(video_file.read()).decode('utf-8') # 把视频文件编码成智谱支持的video_base64字符申，再解码成utf-8格式字符\n",
    "    \n",
    "print(\"通常来说，视频理解的响应时间较长，需要等待数十秒...\")\n",
    "response = client.chat.completions.create(#直接调补全接口\n",
    "    model=\"glm-4v-plus\", #设置智谱具体大模型，glm-4v-plus支持视频理解\n",
    "    temperature=0.0, #设置温度参数，控制生成文本的随机性，0.0表示不随机，输出最可能的文本\n",
    "    top_p=0, # 设置top_p参数，控制生成文本的多样性，0表示不使用此参数\n",
    "    \n",
    "    \n",
    "    messages=[{ # 设置消息列表\n",
    "        \"role\":\"user\", # 指定消息的角色为用户\n",
    "        \"content\":[{#定义消息内容列表\n",
    "            \"type\": \"video_url\",#设置视频链接\n",
    "            \"video_url\": { \"url\" : video_base}#将编码后的视频以base64字符串形式作为链接\n",
    "        },{\n",
    "            \"type\": \"text\",#设置提问/提示词类型为文本\n",
    "            \"text\":\"请仔细描述这个视频的主要内容，作者在为小猫做什么，以有趣的方式讲给我听\" #设置提问/提示词\n",
    "        }]\n",
    "    }]\n",
    ")\n",
    "print(response.choices [0].message)#输出回答列表中的第一个选项中的消息"
   ]
  },
  {
   "cell_type": "code",
   "execution_count": null,
   "id": "e0c05df5-ee92-4f56-9e5f-ac90df9f0948",
   "metadata": {},
   "outputs": [],
   "source": []
  },
  {
   "cell_type": "code",
   "execution_count": null,
   "id": "dd713360-f059-4d3b-877b-d829ac2c16cb",
   "metadata": {},
   "outputs": [],
   "source": []
  }
 ],
 "metadata": {
  "kernelspec": {
   "display_name": "Python 3 (ipykernel)",
   "language": "python",
   "name": "python3"
  },
  "language_info": {
   "codemirror_mode": {
    "name": "ipython",
    "version": 3
   },
   "file_extension": ".py",
   "mimetype": "text/x-python",
   "name": "python",
   "nbconvert_exporter": "python",
   "pygments_lexer": "ipython3",
   "version": "3.9.7"
  }
 },
 "nbformat": 4,
 "nbformat_minor": 5
}
